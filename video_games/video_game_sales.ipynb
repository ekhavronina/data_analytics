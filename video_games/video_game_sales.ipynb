{
 "cells": [
  {
   "cell_type": "markdown",
   "id": "d905b12d",
   "metadata": {},
   "source": [
    "### in progress..."
   ]
  },
  {
   "cell_type": "code",
   "execution_count": 2,
   "id": "9e623b17",
   "metadata": {},
   "outputs": [],
   "source": [
    "import pandas as pd\n",
    "import numpy as np\n",
    "\n",
    "import matplotlib.pyplot as plt\n",
    "import seaborn as sns"
   ]
  },
  {
   "cell_type": "markdown",
   "id": "ba1a3268",
   "metadata": {},
   "source": [
    "### Загружаем и готовим данные\n",
    "\n",
    "Датасет содержит информацию об играх, которых было продано более 100 тыс. копий.\n",
    "\n",
    "<b>Описания колонок:</b>\n",
    "\n",
    "+ Name - The games name\n",
    "+ Platform - Platform of the games release (i.e. PC,PS4, etc.)\n",
    "+ Year - Year of the game's release\n",
    "+ Genre - Genre of the game\n",
    "+ Publisher - Publisher of the game\n",
    "+ NA_Sales - Sales in North America (in millions)\n",
    "+ EU_Sales - Sales in Europe (in millions)\n",
    "+ JP_Sales - Sales in Japan (in millions)\n",
    "+ Other_Sales - Sales in the rest of the world (in millions)\n",
    "+ Global_Sales - Total worldwide sales.\n"
   ]
  },
  {
   "cell_type": "code",
   "execution_count": 43,
   "id": "d3ea3e50",
   "metadata": {},
   "outputs": [
    {
     "data": {
      "text/html": [
       "<div>\n",
       "<style scoped>\n",
       "    .dataframe tbody tr th:only-of-type {\n",
       "        vertical-align: middle;\n",
       "    }\n",
       "\n",
       "    .dataframe tbody tr th {\n",
       "        vertical-align: top;\n",
       "    }\n",
       "\n",
       "    .dataframe thead th {\n",
       "        text-align: right;\n",
       "    }\n",
       "</style>\n",
       "<table border=\"1\" class=\"dataframe\">\n",
       "  <thead>\n",
       "    <tr style=\"text-align: right;\">\n",
       "      <th></th>\n",
       "      <th>Name</th>\n",
       "      <th>Platform</th>\n",
       "      <th>Year</th>\n",
       "      <th>Genre</th>\n",
       "      <th>Publisher</th>\n",
       "      <th>NA_Sales</th>\n",
       "      <th>EU_Sales</th>\n",
       "      <th>JP_Sales</th>\n",
       "      <th>Other_Sales</th>\n",
       "      <th>Global_Sales</th>\n",
       "    </tr>\n",
       "  </thead>\n",
       "  <tbody>\n",
       "    <tr>\n",
       "      <th>0</th>\n",
       "      <td>Wii Sports</td>\n",
       "      <td>Wii</td>\n",
       "      <td>2006.0</td>\n",
       "      <td>Sports</td>\n",
       "      <td>Nintendo</td>\n",
       "      <td>41.49</td>\n",
       "      <td>29.02</td>\n",
       "      <td>3.77</td>\n",
       "      <td>8.46</td>\n",
       "      <td>82.74</td>\n",
       "    </tr>\n",
       "    <tr>\n",
       "      <th>1</th>\n",
       "      <td>Super Mario Bros.</td>\n",
       "      <td>NES</td>\n",
       "      <td>1985.0</td>\n",
       "      <td>Platform</td>\n",
       "      <td>Nintendo</td>\n",
       "      <td>29.08</td>\n",
       "      <td>3.58</td>\n",
       "      <td>6.81</td>\n",
       "      <td>0.77</td>\n",
       "      <td>40.24</td>\n",
       "    </tr>\n",
       "    <tr>\n",
       "      <th>2</th>\n",
       "      <td>Mario Kart Wii</td>\n",
       "      <td>Wii</td>\n",
       "      <td>2008.0</td>\n",
       "      <td>Racing</td>\n",
       "      <td>Nintendo</td>\n",
       "      <td>15.85</td>\n",
       "      <td>12.88</td>\n",
       "      <td>3.79</td>\n",
       "      <td>3.31</td>\n",
       "      <td>35.82</td>\n",
       "    </tr>\n",
       "    <tr>\n",
       "      <th>3</th>\n",
       "      <td>Wii Sports Resort</td>\n",
       "      <td>Wii</td>\n",
       "      <td>2009.0</td>\n",
       "      <td>Sports</td>\n",
       "      <td>Nintendo</td>\n",
       "      <td>15.75</td>\n",
       "      <td>11.01</td>\n",
       "      <td>3.28</td>\n",
       "      <td>2.96</td>\n",
       "      <td>33.00</td>\n",
       "    </tr>\n",
       "    <tr>\n",
       "      <th>4</th>\n",
       "      <td>Pokemon Red/Pokemon Blue</td>\n",
       "      <td>GB</td>\n",
       "      <td>1996.0</td>\n",
       "      <td>Role-Playing</td>\n",
       "      <td>Nintendo</td>\n",
       "      <td>11.27</td>\n",
       "      <td>8.89</td>\n",
       "      <td>10.22</td>\n",
       "      <td>1.00</td>\n",
       "      <td>31.37</td>\n",
       "    </tr>\n",
       "    <tr>\n",
       "      <th>...</th>\n",
       "      <td>...</td>\n",
       "      <td>...</td>\n",
       "      <td>...</td>\n",
       "      <td>...</td>\n",
       "      <td>...</td>\n",
       "      <td>...</td>\n",
       "      <td>...</td>\n",
       "      <td>...</td>\n",
       "      <td>...</td>\n",
       "      <td>...</td>\n",
       "    </tr>\n",
       "    <tr>\n",
       "      <th>16593</th>\n",
       "      <td>Woody Woodpecker in Crazy Castle 5</td>\n",
       "      <td>GBA</td>\n",
       "      <td>2002.0</td>\n",
       "      <td>Platform</td>\n",
       "      <td>Kemco</td>\n",
       "      <td>0.01</td>\n",
       "      <td>0.00</td>\n",
       "      <td>0.00</td>\n",
       "      <td>0.00</td>\n",
       "      <td>0.01</td>\n",
       "    </tr>\n",
       "    <tr>\n",
       "      <th>16594</th>\n",
       "      <td>Men in Black II: Alien Escape</td>\n",
       "      <td>GC</td>\n",
       "      <td>2003.0</td>\n",
       "      <td>Shooter</td>\n",
       "      <td>Infogrames</td>\n",
       "      <td>0.01</td>\n",
       "      <td>0.00</td>\n",
       "      <td>0.00</td>\n",
       "      <td>0.00</td>\n",
       "      <td>0.01</td>\n",
       "    </tr>\n",
       "    <tr>\n",
       "      <th>16595</th>\n",
       "      <td>SCORE International Baja 1000: The Official Game</td>\n",
       "      <td>PS2</td>\n",
       "      <td>2008.0</td>\n",
       "      <td>Racing</td>\n",
       "      <td>Activision</td>\n",
       "      <td>0.00</td>\n",
       "      <td>0.00</td>\n",
       "      <td>0.00</td>\n",
       "      <td>0.00</td>\n",
       "      <td>0.01</td>\n",
       "    </tr>\n",
       "    <tr>\n",
       "      <th>16596</th>\n",
       "      <td>Know How 2</td>\n",
       "      <td>DS</td>\n",
       "      <td>2010.0</td>\n",
       "      <td>Puzzle</td>\n",
       "      <td>7G//AMES</td>\n",
       "      <td>0.00</td>\n",
       "      <td>0.01</td>\n",
       "      <td>0.00</td>\n",
       "      <td>0.00</td>\n",
       "      <td>0.01</td>\n",
       "    </tr>\n",
       "    <tr>\n",
       "      <th>16597</th>\n",
       "      <td>Spirits &amp; Spells</td>\n",
       "      <td>GBA</td>\n",
       "      <td>2003.0</td>\n",
       "      <td>Platform</td>\n",
       "      <td>Wanadoo</td>\n",
       "      <td>0.01</td>\n",
       "      <td>0.00</td>\n",
       "      <td>0.00</td>\n",
       "      <td>0.00</td>\n",
       "      <td>0.01</td>\n",
       "    </tr>\n",
       "  </tbody>\n",
       "</table>\n",
       "<p>16598 rows × 10 columns</p>\n",
       "</div>"
      ],
      "text/plain": [
       "                                                   Name Platform    Year  \\\n",
       "0                                            Wii Sports      Wii  2006.0   \n",
       "1                                     Super Mario Bros.      NES  1985.0   \n",
       "2                                        Mario Kart Wii      Wii  2008.0   \n",
       "3                                     Wii Sports Resort      Wii  2009.0   \n",
       "4                              Pokemon Red/Pokemon Blue       GB  1996.0   \n",
       "...                                                 ...      ...     ...   \n",
       "16593                Woody Woodpecker in Crazy Castle 5      GBA  2002.0   \n",
       "16594                     Men in Black II: Alien Escape       GC  2003.0   \n",
       "16595  SCORE International Baja 1000: The Official Game      PS2  2008.0   \n",
       "16596                                        Know How 2       DS  2010.0   \n",
       "16597                                  Spirits & Spells      GBA  2003.0   \n",
       "\n",
       "              Genre   Publisher  NA_Sales  EU_Sales  JP_Sales  Other_Sales  \\\n",
       "0            Sports    Nintendo     41.49     29.02      3.77         8.46   \n",
       "1          Platform    Nintendo     29.08      3.58      6.81         0.77   \n",
       "2            Racing    Nintendo     15.85     12.88      3.79         3.31   \n",
       "3            Sports    Nintendo     15.75     11.01      3.28         2.96   \n",
       "4      Role-Playing    Nintendo     11.27      8.89     10.22         1.00   \n",
       "...             ...         ...       ...       ...       ...          ...   \n",
       "16593      Platform       Kemco      0.01      0.00      0.00         0.00   \n",
       "16594       Shooter  Infogrames      0.01      0.00      0.00         0.00   \n",
       "16595        Racing  Activision      0.00      0.00      0.00         0.00   \n",
       "16596        Puzzle    7G//AMES      0.00      0.01      0.00         0.00   \n",
       "16597      Platform     Wanadoo      0.01      0.00      0.00         0.00   \n",
       "\n",
       "       Global_Sales  \n",
       "0             82.74  \n",
       "1             40.24  \n",
       "2             35.82  \n",
       "3             33.00  \n",
       "4             31.37  \n",
       "...             ...  \n",
       "16593          0.01  \n",
       "16594          0.01  \n",
       "16595          0.01  \n",
       "16596          0.01  \n",
       "16597          0.01  \n",
       "\n",
       "[16598 rows x 10 columns]"
      ]
     },
     "execution_count": 43,
     "metadata": {},
     "output_type": "execute_result"
    }
   ],
   "source": [
    "games = pd.read_csv('vgsales.csv', \n",
    "                    usecols=lambda x: x != 'Rank',\n",
    "                    dtype={'Genre': 'category'}\n",
    "                   )\n",
    "games"
   ]
  },
  {
   "cell_type": "code",
   "execution_count": 48,
   "id": "187a3723",
   "metadata": {},
   "outputs": [
    {
     "name": "stdout",
     "output_type": "stream",
     "text": [
      "<class 'pandas.core.frame.DataFrame'>\n",
      "RangeIndex: 16598 entries, 0 to 16597\n",
      "Data columns (total 10 columns):\n",
      " #   Column        Non-Null Count  Dtype   \n",
      "---  ------        --------------  -----   \n",
      " 0   Name          16598 non-null  object  \n",
      " 1   Platform      16598 non-null  object  \n",
      " 2   Year          16327 non-null  float64 \n",
      " 3   Genre         16598 non-null  category\n",
      " 4   Publisher     16598 non-null  object  \n",
      " 5   NA_Sales      16598 non-null  float64 \n",
      " 6   EU_Sales      16598 non-null  float64 \n",
      " 7   JP_Sales      16598 non-null  float64 \n",
      " 8   Other_Sales   16598 non-null  float64 \n",
      " 9   Global_Sales  16598 non-null  float64 \n",
      "dtypes: category(1), float64(6), object(3)\n",
      "memory usage: 1.2+ MB\n"
     ]
    }
   ],
   "source": [
    "games.info()"
   ]
  },
  {
   "cell_type": "code",
   "execution_count": 44,
   "id": "99cf7508",
   "metadata": {},
   "outputs": [
    {
     "data": {
      "text/plain": [
       "Name            False\n",
       "Platform        False\n",
       "Year             True\n",
       "Genre           False\n",
       "Publisher        True\n",
       "NA_Sales        False\n",
       "EU_Sales        False\n",
       "JP_Sales        False\n",
       "Other_Sales     False\n",
       "Global_Sales    False\n",
       "dtype: bool"
      ]
     },
     "execution_count": 44,
     "metadata": {},
     "output_type": "execute_result"
    }
   ],
   "source": [
    "# ищем пропущенные значения\n",
    "games.isna().any()"
   ]
  },
  {
   "cell_type": "code",
   "execution_count": 45,
   "id": "7e55f908",
   "metadata": {},
   "outputs": [
    {
     "name": "stdout",
     "output_type": "stream",
     "text": [
      "203\n",
      "261\n"
     ]
    }
   ],
   "source": [
    "print(sum(games['Publisher'] == 'Unknown'))\n",
    "games['Publisher'].fillna('Unknown', inplace=True)\n",
    "print(sum(games['Publisher'] == 'Unknown'))"
   ]
  },
  {
   "cell_type": "code",
   "execution_count": 46,
   "id": "eb6220ee",
   "metadata": {},
   "outputs": [
    {
     "data": {
      "text/html": [
       "<div>\n",
       "<style scoped>\n",
       "    .dataframe tbody tr th:only-of-type {\n",
       "        vertical-align: middle;\n",
       "    }\n",
       "\n",
       "    .dataframe tbody tr th {\n",
       "        vertical-align: top;\n",
       "    }\n",
       "\n",
       "    .dataframe thead th {\n",
       "        text-align: right;\n",
       "    }\n",
       "</style>\n",
       "<table border=\"1\" class=\"dataframe\">\n",
       "  <thead>\n",
       "    <tr style=\"text-align: right;\">\n",
       "      <th></th>\n",
       "      <th>Year</th>\n",
       "      <th>NA_Sales</th>\n",
       "      <th>EU_Sales</th>\n",
       "      <th>JP_Sales</th>\n",
       "      <th>Other_Sales</th>\n",
       "      <th>Global_Sales</th>\n",
       "    </tr>\n",
       "  </thead>\n",
       "  <tbody>\n",
       "    <tr>\n",
       "      <th>count</th>\n",
       "      <td>16327.000000</td>\n",
       "      <td>16598.000000</td>\n",
       "      <td>16598.000000</td>\n",
       "      <td>16598.000000</td>\n",
       "      <td>16598.000000</td>\n",
       "      <td>16598.000000</td>\n",
       "    </tr>\n",
       "    <tr>\n",
       "      <th>mean</th>\n",
       "      <td>2006.406443</td>\n",
       "      <td>0.264667</td>\n",
       "      <td>0.146652</td>\n",
       "      <td>0.077782</td>\n",
       "      <td>0.048063</td>\n",
       "      <td>0.537441</td>\n",
       "    </tr>\n",
       "    <tr>\n",
       "      <th>std</th>\n",
       "      <td>5.828981</td>\n",
       "      <td>0.816683</td>\n",
       "      <td>0.505351</td>\n",
       "      <td>0.309291</td>\n",
       "      <td>0.188588</td>\n",
       "      <td>1.555028</td>\n",
       "    </tr>\n",
       "    <tr>\n",
       "      <th>min</th>\n",
       "      <td>1980.000000</td>\n",
       "      <td>0.000000</td>\n",
       "      <td>0.000000</td>\n",
       "      <td>0.000000</td>\n",
       "      <td>0.000000</td>\n",
       "      <td>0.010000</td>\n",
       "    </tr>\n",
       "    <tr>\n",
       "      <th>25%</th>\n",
       "      <td>2003.000000</td>\n",
       "      <td>0.000000</td>\n",
       "      <td>0.000000</td>\n",
       "      <td>0.000000</td>\n",
       "      <td>0.000000</td>\n",
       "      <td>0.060000</td>\n",
       "    </tr>\n",
       "    <tr>\n",
       "      <th>50%</th>\n",
       "      <td>2007.000000</td>\n",
       "      <td>0.080000</td>\n",
       "      <td>0.020000</td>\n",
       "      <td>0.000000</td>\n",
       "      <td>0.010000</td>\n",
       "      <td>0.170000</td>\n",
       "    </tr>\n",
       "    <tr>\n",
       "      <th>75%</th>\n",
       "      <td>2010.000000</td>\n",
       "      <td>0.240000</td>\n",
       "      <td>0.110000</td>\n",
       "      <td>0.040000</td>\n",
       "      <td>0.040000</td>\n",
       "      <td>0.470000</td>\n",
       "    </tr>\n",
       "    <tr>\n",
       "      <th>max</th>\n",
       "      <td>2020.000000</td>\n",
       "      <td>41.490000</td>\n",
       "      <td>29.020000</td>\n",
       "      <td>10.220000</td>\n",
       "      <td>10.570000</td>\n",
       "      <td>82.740000</td>\n",
       "    </tr>\n",
       "  </tbody>\n",
       "</table>\n",
       "</div>"
      ],
      "text/plain": [
       "               Year      NA_Sales      EU_Sales      JP_Sales   Other_Sales  \\\n",
       "count  16327.000000  16598.000000  16598.000000  16598.000000  16598.000000   \n",
       "mean    2006.406443      0.264667      0.146652      0.077782      0.048063   \n",
       "std        5.828981      0.816683      0.505351      0.309291      0.188588   \n",
       "min     1980.000000      0.000000      0.000000      0.000000      0.000000   \n",
       "25%     2003.000000      0.000000      0.000000      0.000000      0.000000   \n",
       "50%     2007.000000      0.080000      0.020000      0.000000      0.010000   \n",
       "75%     2010.000000      0.240000      0.110000      0.040000      0.040000   \n",
       "max     2020.000000     41.490000     29.020000     10.220000     10.570000   \n",
       "\n",
       "       Global_Sales  \n",
       "count  16598.000000  \n",
       "mean       0.537441  \n",
       "std        1.555028  \n",
       "min        0.010000  \n",
       "25%        0.060000  \n",
       "50%        0.170000  \n",
       "75%        0.470000  \n",
       "max       82.740000  "
      ]
     },
     "execution_count": 46,
     "metadata": {},
     "output_type": "execute_result"
    }
   ],
   "source": [
    "games.describe()"
   ]
  },
  {
   "cell_type": "markdown",
   "id": "c9c92ce4",
   "metadata": {},
   "source": [
    "<b>Представленные жанры<b>"
   ]
  },
  {
   "cell_type": "code",
   "execution_count": 50,
   "id": "065f2a95",
   "metadata": {},
   "outputs": [
    {
     "data": {
      "text/plain": [
       "Genre\n",
       "Action          3316\n",
       "Sports          2346\n",
       "Misc            1739\n",
       "Role-Playing    1488\n",
       "Shooter         1310\n",
       "Adventure       1286\n",
       "Racing          1249\n",
       "Platform         886\n",
       "Simulation       867\n",
       "Fighting         848\n",
       "Strategy         681\n",
       "Puzzle           582\n",
       "dtype: int64"
      ]
     },
     "execution_count": 50,
     "metadata": {},
     "output_type": "execute_result"
    }
   ],
   "source": [
    "games.value_counts('Genre')"
   ]
  },
  {
   "cell_type": "markdown",
   "id": "2452adf5",
   "metadata": {},
   "source": [
    "<b>Платформы с наибольшим количеством игр</b>"
   ]
  },
  {
   "cell_type": "code",
   "execution_count": 54,
   "id": "8a01d4a6",
   "metadata": {},
   "outputs": [
    {
     "data": {
      "text/plain": [
       "Platform\n",
       "DS      2163\n",
       "PS2     2161\n",
       "PS3     1329\n",
       "Wii     1325\n",
       "X360    1265\n",
       "PSP     1213\n",
       "PS      1196\n",
       "PC       960\n",
       "XB       824\n",
       "GBA      822\n",
       "dtype: int64"
      ]
     },
     "execution_count": 54,
     "metadata": {},
     "output_type": "execute_result"
    }
   ],
   "source": [
    "games.value_counts('Platform').head(10)"
   ]
  },
  {
   "cell_type": "markdown",
   "id": "52bae6ee",
   "metadata": {},
   "source": [
    "<b>Издатели с наибольшим количеством игр</b>"
   ]
  },
  {
   "cell_type": "code",
   "execution_count": 111,
   "id": "010735d6",
   "metadata": {},
   "outputs": [
    {
     "data": {
      "text/plain": [
       "Publisher\n",
       "Electronic Arts                 1351\n",
       "Activision                       975\n",
       "Namco Bandai Games               932\n",
       "Ubisoft                          921\n",
       "Konami Digital Entertainment     832\n",
       "THQ                              715\n",
       "Nintendo                         703\n",
       "Sony Computer Entertainment      683\n",
       "Sega                             639\n",
       "Take-Two Interactive             413\n",
       "dtype: int64"
      ]
     },
     "execution_count": 111,
     "metadata": {},
     "output_type": "execute_result"
    }
   ],
   "source": [
    "publishers = pd.DataFrame(games.value_counts('Publisher').head(10), columns=['count']).reset_index()\n",
    "games.value_counts('Publisher').head(10)"
   ]
  },
  {
   "cell_type": "markdown",
   "id": "a9491b13",
   "metadata": {},
   "source": [
    "<b>Период, охваченный в датасете</b>"
   ]
  },
  {
   "cell_type": "code",
   "execution_count": 58,
   "id": "9eb8346b",
   "metadata": {},
   "outputs": [
    {
     "data": {
      "text/plain": [
       "min    1980.0\n",
       "max    2020.0\n",
       "Name: Year, dtype: float64"
      ]
     },
     "execution_count": 58,
     "metadata": {},
     "output_type": "execute_result"
    }
   ],
   "source": [
    "games['Year'].agg(['min', 'max'])"
   ]
  },
  {
   "cell_type": "markdown",
   "id": "ecbd913c",
   "metadata": {},
   "source": [
    "\n",
    "### Посмотрим на данные"
   ]
  },
  {
   "cell_type": "code",
   "execution_count": 125,
   "id": "825da2b7",
   "metadata": {},
   "outputs": [
    {
     "data": {
      "image/png": "[encoded data removed]",
      "text/plain": [
       "<Figure size 640x480 with 1 Axes>"
      ]
     },
     "metadata": {},
     "output_type": "display_data"
    }
   ],
   "source": [
    "ax = sns.barplot(data=publishers,\n",
    "            x='count',\n",
    "            y='Publisher',\n",
    "            orient='h',\n",
    "            palette='husl'\n",
    "           )\n",
    "\n",
    "ax.bar_label(ax.containers[0], padding=-27, color='white')\n",
    "plt.title('Самые крупные издатели по количеству игр')\n",
    "plt.xlabel(None)\n",
    "plt.ylabel(None)\n",
    "\n",
    "plt.show()"
   ]
  }
 ],
 "metadata": {
  "kernelspec": {
   "display_name": "Python 3 (ipykernel)",
   "language": "python",
   "name": "python3"
  },
  "language_info": {
   "codemirror_mode": {
    "name": "ipython",
    "version": 3
   },
   "file_extension": ".py",
   "mimetype": "text/x-python",
   "name": "python",
   "nbconvert_exporter": "python",
   "pygments_lexer": "ipython3",
   "version": "3.10.5"
  }
 },
 "nbformat": 4,
 "nbformat_minor": 5
}
